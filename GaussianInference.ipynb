{
 "cells": [
  {
   "cell_type": "markdown",
   "metadata": {},
   "source": [
    "# Problem 1.3: Baseball Exit Velocities\n",
    "\n",
    "This notebook uses to the matrices you derived in questions 1.1 and 1.2 of this problem set to characterize the posterior distribution over the initial height and and vertical velocity of a baseball after it has been hit.\n",
    "\n",
    "## Coding Tasks\n",
    "There 5 `TODO` comments labeled in the code below.\n",
    "1. Write code to construct the matrix $A$ from question 1.1.\n",
    "2. Write code to construct the vector $b$ from question 1.1.\n",
    "3. Use numpy's matrix multiplication and addition tools to construct the marginal covariance of the observation vector $\\mathbf{z}$.\n",
    "4. Construct the cross covariance of $\\mathbf{z}$ and $x=[z_0,v_0]$.\n",
    "5. Use numpy's linalg package to compute the posterior covariance. (Note that you can adapt what's already in this notebook for computing the posterior mean)."
   ]
  },
  {
   "cell_type": "code",
   "execution_count": 1,
   "metadata": {},
   "outputs": [],
   "source": [
    "%matplotlib inline\n",
    "import numpy as np\n",
    "import matplotlib.pyplot as plt"
   ]
  },
  {
   "cell_type": "code",
   "execution_count": 2,
   "metadata": {},
   "outputs": [],
   "source": [
    "def CreateObservationOperator(times):\n",
    "    \"\"\" Constructs the matrix A and vector b from problem 1.1\n",
    "    \n",
    "        ARGS:\n",
    "            times (np.array): A numpy vector of length N containing the observations times t_1,...,t_N\n",
    "        \n",
    "        RETURNS:\n",
    "            A\n",
    "    \"\"\"\n",
    "    N = times.shape[0] # The number of observation times\n",
    "    \n",
    "    # TODO 1: Write code to fill the contents of A with your solution from part 1\n",
    "    A = np.ones((N,2))\n",
    "    A[:,1] = times\n",
    "    \n",
    "    # TODO 2: Write code to fill the contents of b with your solution from part 1\n",
    "    g = 9.81\n",
    "    b = -0.5*g*times*times\n",
    "    \n",
    "    return A, b\n",
    "\n",
    "def ComputeCovariances(A, sigma_xx, sigma_eps):\n",
    "    \"\"\"\n",
    "    This function uses the matrix returned by the ObservationOperator function\n",
    "    to compute the cross covariance between the initial conditions [z_0,v_0] \n",
    "    and the observable elevations $\\mathbf{z}$.  \n",
    "    \n",
    "    ARGS:\n",
    "        A (np.array): An Nx2 matrix derived from the parabolic model for projectile motion.\n",
    "        sigma_xx (np.array): A 2x2 matrix containing the prior covariance of the initial conditions.\n",
    "        sigma_eps (float): A single number for the observation variables $\\sigma_\\epsilon^2$\n",
    "        \n",
    "    RETURNS:\n",
    "        sigma_zz (np.array): An NxN matrix containing the marginal covariance of the observable elevations.\n",
    "        sigma_zx (np.array): An Nx2 matrix containing the cross covariance between the observable elevations and the initial conditions.\n",
    "    \"\"\"\n",
    "    N = A.shape[0]\n",
    "    \n",
    "    # TODO 3: Overwrite the matrix sigma_zz with the actual marginal covariance from part 2 of this question\n",
    "    sigma_zz = A@sigma_xx@A.T + sigma_eps*np.eye(N)\n",
    "    \n",
    "    # TODO 4: Overwrite the matrix sigma_zx with the cross covariance you computed in part 2\n",
    "    sigma_zx = A@sigma_xx\n",
    "    \n",
    "    return sigma_zz, sigma_zx\n",
    "\n",
    "def GetPrior():\n",
    "    \"\"\" Returns the two-dimensional prior mean vector and the 2x2 prior covariance matrix.\n",
    "    \"\"\"\n",
    "    \n",
    "    mu = np.array([0.5, 30.0])\n",
    "    \n",
    "    cov = np.array([[0.125, 0.0],\n",
    "                    [0.0,   100.0]])\n",
    "    \n",
    "    return mu, cov\n",
    "\n",
    "\n",
    "def GetObservations():\n",
    "    \"\"\" Returns the observation times and observed elevations of the baseball. \"\"\"\n",
    " \n",
    "    obs_times = np.array([0.0, 0.7, 1.4, 2.1, 2.8, 3.5])\n",
    "    obs_vals = np.array([0.93, 7.43, 19.33, 18.46, 13.10, 5.45])\n",
    "    \n",
    "    return obs_times, obs_vals\n",
    "\n",
    "def ComputePosterior(obs_val, mu_x, mu_y, sigma_xx, sigma_yy, sigma_yx):\n",
    "    \"\"\" For two jointly distribution Gaussian random variables, this function\n",
    "        computes the posterior mean and covariance of x|y using the marginal\n",
    "        means mu_x and mu_y, marginal covariances sigma_xx and sigma_yy, as well\n",
    "        as the cross covariance sigma_yx.\n",
    "        \n",
    "        ARGS:\n",
    "            obs_val (np.array): The observed values of $Y$.\n",
    "            mu_x (np.array): The mean of X\n",
    "            mu_y (np.array): The mean of Y\n",
    "            sigma_xx (np.array): The covariance matrix of X\n",
    "            sigma_yy (np.array): The covariance matrix of Y\n",
    "            sigma_yx (np.array): The cross covariance of Y and X.\n",
    "            \n",
    "        RETURNS:\n",
    "            mu (np.array): The posterior mean of x|y\n",
    "            sigma (np.array): The posterior covariance of x|y\n",
    "            \n",
    "    \"\"\"\n",
    "    \n",
    "    # check the input dimensions\n",
    "    dim_x = mu_x.shape[0]\n",
    "    dim_y = mu_y.shape[0]\n",
    "    \n",
    "    assert((dim_x==sigma_xx.shape[0])&(dim_x==sigma_xx.shape[1]))\n",
    "    assert((dim_y==sigma_yy.shape[0])&(dim_y==sigma_yy.shape[1]))\n",
    "    assert((dim_y==sigma_yx.shape[0])&(dim_x==sigma_yx.shape[1]))\n",
    "    \n",
    "    # Compute the Kalman gain\n",
    "    K = np.linalg.solve(sigma_yy, sigma_yx).T\n",
    "    \n",
    "    # np.linalg.solve(sigma_yy, sigma_yx).T =  ((sigma_yy)^{-1} * sigma_yx )^T = sigma_yx^T * (sigma_yy)^{-1}\n",
    "    \n",
    "    # Compute the posterior mean\n",
    "    post_mu = mu_x + K@(obs_val - mu_y)\n",
    "    \n",
    "    # TODO 5: Replace the following line to compute the posterior covariance\n",
    "    post_cov = sigma_xx - K@sigma_yx\n",
    "    \n",
    "    return post_mu, post_cov\n",
    "    "
   ]
  },
  {
   "cell_type": "markdown",
   "metadata": {},
   "source": [
    "### Get the observations and set up the model"
   ]
  },
  {
   "cell_type": "code",
   "execution_count": 3,
   "metadata": {},
   "outputs": [],
   "source": [
    "obs_var = 3.0\n",
    "obs_times, obs_elevs = GetObservations()\n",
    "\n",
    "A, b = CreateObservationOperator(obs_times)"
   ]
  },
  {
   "cell_type": "markdown",
   "metadata": {},
   "source": [
    "### Set up the joint prior distribution"
   ]
  },
  {
   "cell_type": "code",
   "execution_count": 4,
   "metadata": {},
   "outputs": [],
   "source": [
    "# first component is initial position, second is initial vertical velocity\n",
    "mu_x, sigma_xx = GetPrior() \n",
    "\n",
    "mu_z = A@mu_x + b\n",
    "\n",
    "sigma_zz, sigma_zx = ComputeCovariances(A, sigma_xx, obs_var)"
   ]
  },
  {
   "cell_type": "markdown",
   "metadata": {},
   "source": [
    "### Compute the posterior mean and covariance"
   ]
  },
  {
   "cell_type": "code",
   "execution_count": 5,
   "metadata": {},
   "outputs": [],
   "source": [
    "post_mu, post_cov = ComputePosterior(obs_elevs, mu_x, mu_z, sigma_xx, sigma_zz, sigma_zx)"
   ]
  },
  {
   "cell_type": "markdown",
   "metadata": {},
   "source": [
    "### Compute and plot the posterior predictive over the trajectory\n",
    "Given the posterior distribution of $z_0$ and $v_0$, we can use the fact that a linear transformation of a multivariate Gaussian random variable is another Gaussian random variable to compute the distribution over the baseball's trajectory."
   ]
  },
  {
   "cell_type": "code",
   "execution_count": 6,
   "metadata": {},
   "outputs": [],
   "source": [
    "pred_times = np.linspace(0,3.5,100)\n",
    "pred_A, pred_b = CreateObservationOperator(pred_times)\n",
    "\n",
    "pred_mean = pred_A@post_mu + pred_b\n",
    "pred_cov = pred_A@post_cov@pred_A.T + obs_var*np.eye(pred_times.shape[0])\n",
    "\n",
    "# Extract the standard deviation of the predictions, which is the square root of the diagonal of the prediction covariance\n",
    "pred_std = np.sqrt(np.diag(pred_cov))"
   ]
  },
  {
   "cell_type": "code",
   "execution_count": 7,
   "metadata": {},
   "outputs": [
    {
     "data": {
      "image/png": "[encoded data removed]",
      "text/plain": [
       "<Figure size 864x576 with 1 Axes>"
      ]
     },
     "metadata": {
      "needs_background": "light"
     },
     "output_type": "display_data"
    }
   ],
   "source": [
    "plt.figure(figsize=(12,8))\n",
    "\n",
    "plt.fill_between(pred_times, pred_mean+2*pred_std, pred_mean-2*pred_std, color='b', alpha=0.2, label='$\\mu\\pm2\\sigma$')\n",
    "plt.plot(pred_times, pred_mean, 'b', linewidth=2, label='$\\mu$')\n",
    "plt.plot(obs_times, obs_elevs, 'ok', label='Observations')\n",
    "\n",
    "plt.legend(fontsize=16)\n",
    "plt.xlabel('Time [s]')\n",
    "plt.ylabel('Ball Height $z(t)$')\n",
    "plt.show()"
   ]
  },
  {
   "cell_type": "code",
   "execution_count": null,
   "metadata": {},
   "outputs": [],
   "source": []
  },
  {
   "cell_type": "code",
   "execution_count": null,
   "metadata": {},
   "outputs": [],
   "source": []
  },
  {
   "cell_type": "code",
   "execution_count": null,
   "metadata": {},
   "outputs": [],
   "source": []
  }
 ],
 "metadata": {
  "kernelspec": {
   "display_name": "Python 3",
   "language": "python",
   "name": "python3"
  },
  "language_info": {
   "codemirror_mode": {
    "name": "ipython",
    "version": 3
   },
   "file_extension": ".py",
   "mimetype": "text/x-python",
   "name": "python",
   "nbconvert_exporter": "python",
   "pygments_lexer": "ipython3",
   "version": "3.7.3"
  }
 },
 "nbformat": 4,
 "nbformat_minor": 4
}
